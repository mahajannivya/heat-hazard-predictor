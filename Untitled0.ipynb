{
  "nbformat": 4,
  "nbformat_minor": 0,
  "metadata": {
    "colab": {
      "provenance": []
    },
    "kernelspec": {
      "name": "python3",
      "display_name": "Python 3"
    },
    "language_info": {
      "name": "python"
    }
  },
  "cells": [
    {
      "cell_type": "code",
      "execution_count": null,
      "metadata": {
        "id": "KiJz-ix8ppCl"
      },
      "outputs": [],
      "source": []
    },
    {
      "cell_type": "code",
      "source": [
        "import pandas as pd\n",
        "from sklearn.preprocessing import LabelEncoder\n",
        "from sklearn.tree import DecisionTreeClassifier\n",
        "\n",
        "\n",
        "data = {\n",
        "    'Day': ['Monday', 'Monday', 'Tuesday', 'Tuesday', 'Wednesday', 'Thursday', 'Friday', 'Saturday', 'Sunday', 'Sunday'],\n",
        "    'Time': ['Morning', 'Afternoon', 'Morning', 'Afternoon', 'Evening', 'Afternoon', 'Morning', 'Afternoon', 'Evening', 'Afternoon'],\n",
        "    'Temperature': [32, 40, 35, 41, 36, 42, 34, 39, 38, 43],\n",
        "    'Safety': ['Safe', 'Unsafe', 'Safe', 'Unsafe', 'Safe', 'Unsafe', 'Safe', 'Unsafe', 'Safe', 'Unsafe']\n",
        "}\n",
        "df = pd.DataFrame(data)\n",
        "\n",
        "le_day = LabelEncoder()\n",
        "le_time = LabelEncoder()\n",
        "le_safety = LabelEncoder()\n",
        "\n",
        "df['Day_encoded'] = le_day.fit_transform(df['Day'])\n",
        "df['Time_encoded'] = le_time.fit_transform(df['Time'])\n",
        "df['Safety_encoded'] = le_safety.fit_transform(df['Safety'])\n",
        "\n",
        "\n",
        "X = df[['Day_encoded', 'Time_encoded', 'Temperature']]\n",
        "y = df['Safety_encoded']\n",
        "\n",
        "model = DecisionTreeClassifier()\n",
        "model.fit(X, y)\n",
        "\n",
        "\n",
        "def predict_safety(day, time, temp):\n",
        "    day_enc = le_day.transform([day])[0]\n",
        "    time_enc = le_time.transform([time])[0]\n",
        "    prediction = model.predict([[day_enc, time_enc, temp]])[0]\n",
        "    label = le_safety.inverse_transform([prediction])[0]\n",
        "\n",
        "    print(f\"\\n🌡️ Input: {day}, {time}, {temp}°C\")\n",
        "    print(f\"🔍 Predicted Status: {label.upper()}\")\n",
        "\n",
        "    if label == 'Unsafe':\n",
        "        print(\"⚠️ Precautions:\")\n",
        "        print(\"- Carry a water bottle\")\n",
        "        print(\"- Wear a cap/sunglasses\")\n",
        "        print(\"- Avoid going unless urgent\")\n",
        "    else:\n",
        "        print(\"✅ You are safe to go out. Just stay hydrated!\")\n",
        "\n",
        "predict_safety('Monday', 'Morning', 14)\n",
        "\n"
      ],
      "metadata": {
        "colab": {
          "base_uri": "https://localhost:8080/"
        },
        "id": "7hnqPvwyproM",
        "outputId": "44965f0f-0d2a-4103-e94e-a9f988c5ad66"
      },
      "execution_count": null,
      "outputs": [
        {
          "output_type": "stream",
          "name": "stdout",
          "text": [
            "\n",
            "🌡️ Input: Monday, Morning, 14°C\n",
            "🔍 Predicted Status: SAFE\n",
            "✅ You are safe to go out. Just stay hydrated!\n"
          ]
        },
        {
          "output_type": "stream",
          "name": "stderr",
          "text": [
            "/usr/local/lib/python3.11/dist-packages/sklearn/utils/validation.py:2739: UserWarning: X does not have valid feature names, but DecisionTreeClassifier was fitted with feature names\n",
            "  warnings.warn(\n"
          ]
        }
      ]
    }
  ]
}